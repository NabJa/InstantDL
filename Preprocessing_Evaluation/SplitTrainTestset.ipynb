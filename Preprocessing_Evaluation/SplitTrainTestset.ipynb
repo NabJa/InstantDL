{
 "cells": [
  {
   "cell_type": "code",
   "execution_count": null,
   "metadata": {},
   "outputs": [],
   "source": [
    "import os\n",
    "import numpy as np\n",
    "from shutil import copyfile"
   ]
  },
  {
   "cell_type": "code",
   "execution_count": null,
   "metadata": {},
   "outputs": [],
   "source": [
    "source = '/home/dominik/Downloads/Ouncomol_Nucleoli_3D/'\n",
    "dest = \"/home/dominik/DeepLearningPipeline/data/\"\n",
    "\n",
    "datasetfolder = \"Ouncomol_Nucleoli_3D/\"\n",
    "\n",
    "train_from_2_images = False\n",
    "\n",
    "dir_test = (dest + datasetfolder)\n",
    "if not os.path.exists(dir_test):\n",
    "    os.makedirs(dir_test + '/evaluation')\n",
    "    os.makedirs(dir_test + '/insights')\n",
    "    os.makedirs(dir_test + '/train/image')\n",
    "    os.makedirs(dir_test + '/train/groundtruth')\n",
    "    os.makedirs(dir_test + '/train/Augmented images')\n",
    "    os.makedirs(dir_test + '/test/image')\n",
    "    os.makedirs(dir_test + '/test/groundtruth')\n",
    "    os.makedirs(dir_test + '/test/prediction')  \n",
    "    if train_from_2_images == True:    \n",
    "        os.makedirs(dir_test + '/train/image2')\n",
    "        os.makedirs(dir_test + '/test/image2')    "
   ]
  },
  {
   "cell_type": "code",
   "execution_count": null,
   "metadata": {},
   "outputs": [],
   "source": [
    "files_image = os.listdir(source + \"Brightfield\")\n",
    "\n",
    "rand_list = np.random.choice([0, 1], size=np.size(files_image), p=[8./10, 2./10])\n",
    "\n",
    "for index in range(np.size(files_image)):\n",
    "    print(index)\n",
    "    print(files_image[index])\n",
    "    if rand_list[index] == 0:\n",
    "        copyfile(source + 'Brightfield/' + files_image[index], dir_test + '/train/image/' + files_image[index])\n",
    "        copyfile(source + 'Stain/' + files_image[index], dir_test + '/train/groundtruth/' + files_image[index])\n",
    "        if train_from_2_images == True:    \n",
    "            copyfile(source + 'GFP/' + files_image[index], dir_test + '/train/image2/' +files_image[index])\n",
    "    else:\n",
    "        copyfile(source + 'Brightfield/' + files_image[index], dir_test + '/test/image/' + files_image[index])\n",
    "        copyfile(source + 'Stain/' + files_image[index], dir_test + '/test/groundtruth/' + files_image[index])\n",
    "        if train_from_2_images == True:\n",
    "            copyfile(source + 'GFP/' + files_image[index], dir_test + '/test/image2/' + files_image[index])"
   ]
  },
  {
   "cell_type": "code",
   "execution_count": null,
   "metadata": {},
   "outputs": [],
   "source": [
    "print(np.random.choice([0, 1], size=(40,), p=[9./10, 1./10]))"
   ]
  },
  {
   "cell_type": "code",
   "execution_count": null,
   "metadata": {},
   "outputs": [],
   "source": [
    "files_image = os.listdir(source)\n",
    "\n",
    "print(np.size(files_image))\n",
    "\n",
    "for index in range(np.size(files_image)):\n",
    "    print(files_image[index])"
   ]
  }
 ],
 "metadata": {
  "kernelspec": {
   "display_name": "Python 3",
   "language": "python",
   "name": "python3"
  },
  "language_info": {
   "codemirror_mode": {
    "name": "ipython",
    "version": 3
   },
   "file_extension": ".py",
   "mimetype": "text/x-python",
   "name": "python",
   "nbconvert_exporter": "python",
   "pygments_lexer": "ipython3",
   "version": "3.6.9"
  }
 },
 "nbformat": 4,
 "nbformat_minor": 2
}
