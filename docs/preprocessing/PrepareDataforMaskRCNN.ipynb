{
 "cells": [
  {
   "cell_type": "markdown",
   "metadata": {},
   "source": [
    "If you have images split into folders as used for regression or semantic segmenatation you can create an instance segmentation dataset with the following code"
   ]
  },
  {
   "cell_type": "code",
   "execution_count": null,
   "metadata": {},
   "outputs": [],
   "source": [
    "import os \n",
    "import numpy as np\n",
    "import imageio as io\n",
    "from skimage.io import imread, imsave\n",
    "from skimage.measure import label, regionprops\n",
    "import matplotlib.pyplot as plt"
   ]
  },
  {
   "cell_type": "code",
   "execution_count": null,
   "metadata": {},
   "outputs": [],
   "source": [
    "def plot(img): \n",
    "    plt.imshow(img)\n",
    "    plt.show()"
   ]
  },
  {
   "cell_type": "markdown",
   "metadata": {},
   "source": [
    "The following code will copy the image files from the semantic segmentation folder to the instance segmentation folder creating the correct folder sturcture for you"
   ]
  },
  {
   "cell_type": "code",
   "execution_count": null,
   "metadata": {},
   "outputs": [],
   "source": [
    "## Preparing images\n",
    "path_in = \"/docs/examples/SemanticSegmentation/\"\n",
    "path_out = \"/docs/examples/InstanceSegmentation/\"\n",
    "\n",
    "image_path_in = path_in +\"/train/image/\"\n",
    "image_path_out = path_out +\"/train/\"\n",
    "\n",
    "files = os.listdir(image_path_in)\n",
    "for file in files: \n",
    "    data = np.array(imread(image_path_in + file))\n",
    "    print(np.shape(data))\n",
    "    filename = file[0:-4]\n",
    "    filename = filename.replace('.','')\n",
    "    print(filename)\n",
    "    outname = (image_path_out + filename + \"/image/\")\n",
    "    os.makedirs(outname, exist_ok=True)\n",
    "    imsave(outname +\"/\" + filename + \".png\", data.astype(\"uint8\"))"
   ]
  },
  {
   "cell_type": "markdown",
   "metadata": {},
   "source": [
    "The following code will create groundtruth masks for you and save them in the corred folder for instance segmentation.\n",
    "This code is not useable for any case, it works best for non-overlapping objects. "
   ]
  },
  {
   "cell_type": "code",
   "execution_count": null,
   "metadata": {
    "scrolled": true
   },
   "outputs": [],
   "source": [
    "## Preparing Masks for training data\n",
    "path_in = \"/docs/examples/SemanticSegmentation/\"\n",
    "path_out = \"/docs/examples/InstanceSegmentation/\"\n",
    "\n",
    "image_path_in = path_in +\"/train/groundtruth/\"\n",
    "image_path_out = path_out +\"/train/\"\n",
    "\n",
    "files = os.listdir(image_path_in)\n",
    "for file in files: \n",
    "    if os.path.exists(image_path_in + file):\n",
    "        data = imread(image_path_in + file)\n",
    "        filename = file[0:-4]\n",
    "        labels = label(data, background=0) # same image_binary as above\n",
    "        propsa = regionprops(labels)   \n",
    "        print(\"labels\", len(regionprops(labels)))\n",
    "        #plot(data)\n",
    "        for region_index, region in enumerate(regionprops(labels)):\n",
    "            print(\"starting region\", region_index, \"of\", len(regionprops(labels)))\n",
    "            new_mask = np.zeros(data.shape)\n",
    "            new_mask[labels == region.label] = 255\n",
    "            if np.mean(new_mask) > 0.03:\n",
    "                filename = filename.replace('.','')\n",
    "                outname = (image_path_out + filename + \"/mask/\")\n",
    "                os.makedirs(outname, exist_ok=True)\n",
    "                imsave(outname + filename + \"_ind\" + str(region_index) + \".png\", new_mask.astype(\"uint8\"))\n",
    "        '''if no labels could be found, make empty mask'''\n",
    "        if len(regionprops(labels)) == 0: \n",
    "            print(\"Making empty mask\")\n",
    "            new_mask = np.zeros(data.shape)\n",
    "            filename = filename.replace('.','')\n",
    "            outname = (image_path_out + filename + \"/mask/\")\n",
    "            os.makedirs(outname, exist_ok=True)\n",
    "            imsave(outname + filename + \"_ind\" + str(0) + \".png\", new_mask.astype(\"uint8\"))"
   ]
  }
 ],
 "metadata": {
  "kernelspec": {
   "display_name": "Python 3",
   "language": "python",
   "name": "python3"
  },
  "language_info": {
   "codemirror_mode": {
    "name": "ipython",
    "version": 3
   },
   "file_extension": ".py",
   "mimetype": "text/x-python",
   "name": "python",
   "nbconvert_exporter": "python",
   "pygments_lexer": "ipython3",
   "version": "3.6.8rc1"
  }
 },
 "nbformat": 4,
 "nbformat_minor": 2
}
