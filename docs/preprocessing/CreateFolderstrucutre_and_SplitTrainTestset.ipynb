{
 "cells": [
  {
   "cell_type": "code",
   "execution_count": null,
   "metadata": {},
   "outputs": [],
   "source": [
    "import os\n",
    "import numpy as np\n",
    "from shutil import copyfile, move"
   ]
  },
  {
   "cell_type": "markdown",
   "metadata": {},
   "source": [
    "Please set your folder path in the following: \n",
    "Source is the folder with a image and a groundtruth folder containing the corresponding image and groundtruth files\n",
    "Dest the path where the "
   ]
  },
  {
   "cell_type": "code",
   "execution_count": null,
   "metadata": {},
   "outputs": [],
   "source": [
    "source = '/home/dominik/kits19/DLdata/'\n",
    "dest = \"docs/examples/\"\n",
    "\n",
    "datasetfolder = \"/SemanticSegmentation/\""
   ]
  },
  {
   "cell_type": "markdown",
   "metadata": {},
   "source": [
    "The follwoing code will create the folders in the destination (dest)"
   ]
  },
  {
   "cell_type": "code",
   "execution_count": null,
   "metadata": {},
   "outputs": [],
   "source": [
    "dir_test = (dest + datasetfolder)\n",
    "if not os.path.exists(dir_test):\n",
    "    os.makedirs(dir_test + '/train/image')\n",
    "    os.makedirs(dir_test + '/train/groundtruth')\n",
    "    os.makedirs(dir_test + '/test/image')\n",
    "    os.makedirs(dir_test + '/test/groundtruth')  "
   ]
  },
  {
   "cell_type": "markdown",
   "metadata": {},
   "source": [
    "Randomly splitting images into train and test set with a 80/20percent split"
   ]
  },
  {
   "cell_type": "code",
   "execution_count": null,
   "metadata": {},
   "outputs": [],
   "source": [
    "files_image = os.listdir(source + \"/image/\")\n",
    "\n",
    "rand_list = np.random.choice([0, 1], size=np.size(files_image), p=[8./10, 2./10])\n",
    "\n",
    "for index in range(np.size(files_image)):\n",
    "    print(index)\n",
    "    print(files_image[index])\n",
    "    if rand_list[index] == 0:\n",
    "        copyfile(source + 'image/' + files_image[index], dir_test + '/train/image/' + files_image[index])\n",
    "        copyfile(source + 'groundtruth/' + files_image[index], dir_test + '/train/groundtruth/' + files_image[index])\n",
    "    else:\n",
    "        copyfile(source + 'image/' + files_image[index], dir_test + '/test/image/' + files_image[index])\n",
    "        copyfile(source + 'groundtruth/' + files_image[index], dir_test + '/test/groundtruth/' + files_image[index])"
   ]
  }
 ],
 "metadata": {
  "kernelspec": {
   "display_name": "Python 3",
   "language": "python",
   "name": "python3"
  },
  "language_info": {
   "codemirror_mode": {
    "name": "ipython",
    "version": 3
   },
   "file_extension": ".py",
   "mimetype": "text/x-python",
   "name": "python",
   "nbconvert_exporter": "python",
   "pygments_lexer": "ipython3",
   "version": "3.6.8rc1"
  }
 },
 "nbformat": 4,
 "nbformat_minor": 2
}
